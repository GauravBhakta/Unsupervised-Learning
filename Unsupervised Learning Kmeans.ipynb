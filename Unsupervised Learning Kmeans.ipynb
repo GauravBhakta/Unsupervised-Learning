{
 "cells": [
  {
   "cell_type": "code",
   "execution_count": 1,
   "id": "820b6de0",
   "metadata": {},
   "outputs": [],
   "source": [
    "import numpy as np"
   ]
  },
  {
   "cell_type": "code",
   "execution_count": 2,
   "id": "a7f1fa5d",
   "metadata": {},
   "outputs": [
    {
     "data": {
      "text/plain": [
       "[(7, 22),\n",
       " (3, 36),\n",
       " (5, 11),\n",
       " (7, 8),\n",
       " (8, 90),\n",
       " (2, 12),\n",
       " (4, 33),\n",
       " (1, 57),\n",
       " (9, 82),\n",
       " (5, 17)]"
      ]
     },
     "execution_count": 2,
     "metadata": {},
     "output_type": "execute_result"
    }
   ],
   "source": [
    "x1 = np.array([7,3,5,7,8,2,4,1,9,5])\n",
    "x2 = np.array([22,36,11,8,90,12,33,57,82,17])\n",
    "data = list(zip(x1,x2))\n",
    "data"
   ]
  },
  {
   "cell_type": "code",
   "execution_count": 3,
   "id": "e6e684d7",
   "metadata": {},
   "outputs": [],
   "source": [
    "from sklearn.cluster import KMeans"
   ]
  },
  {
   "cell_type": "code",
   "execution_count": 24,
   "id": "6ac8910a",
   "metadata": {},
   "outputs": [
    {
     "data": {
      "image/png": "[encoded data removed]",
      "text/plain": [
       "<Figure size 640x480 with 1 Axes>"
      ]
     },
     "metadata": {},
     "output_type": "display_data"
    }
   ],
   "source": [
    "model = KMeans(n_clusters = 2)\n",
    "model.fit(data)\n",
    "import matplotlib.pyplot as plt\n",
    "plt.scatter(x1,x2,c = model.labels_)\n",
    "plt.show()"
   ]
  },
  {
   "cell_type": "code",
   "execution_count": 8,
   "id": "73e3443b",
   "metadata": {},
   "outputs": [],
   "source": [
    "import pandas as pd"
   ]
  },
  {
   "cell_type": "code",
   "execution_count": 13,
   "id": "9d2d49c9",
   "metadata": {},
   "outputs": [
    {
     "data": {
      "text/html": [
       "<div>\n",
       "<style scoped>\n",
       "    .dataframe tbody tr th:only-of-type {\n",
       "        vertical-align: middle;\n",
       "    }\n",
       "\n",
       "    .dataframe tbody tr th {\n",
       "        vertical-align: top;\n",
       "    }\n",
       "\n",
       "    .dataframe thead th {\n",
       "        text-align: right;\n",
       "    }\n",
       "</style>\n",
       "<table border=\"1\" class=\"dataframe\">\n",
       "  <thead>\n",
       "    <tr style=\"text-align: right;\">\n",
       "      <th></th>\n",
       "      <th>sepal.length</th>\n",
       "      <th>sepal.width</th>\n",
       "      <th>petal.length</th>\n",
       "      <th>petal.width</th>\n",
       "      <th>variety</th>\n",
       "    </tr>\n",
       "  </thead>\n",
       "  <tbody>\n",
       "    <tr>\n",
       "      <th>0</th>\n",
       "      <td>5.1</td>\n",
       "      <td>3.5</td>\n",
       "      <td>1.4</td>\n",
       "      <td>0.2</td>\n",
       "      <td>Setosa</td>\n",
       "    </tr>\n",
       "    <tr>\n",
       "      <th>1</th>\n",
       "      <td>4.9</td>\n",
       "      <td>3.0</td>\n",
       "      <td>1.4</td>\n",
       "      <td>0.2</td>\n",
       "      <td>Setosa</td>\n",
       "    </tr>\n",
       "    <tr>\n",
       "      <th>2</th>\n",
       "      <td>4.7</td>\n",
       "      <td>3.2</td>\n",
       "      <td>1.3</td>\n",
       "      <td>0.2</td>\n",
       "      <td>Setosa</td>\n",
       "    </tr>\n",
       "    <tr>\n",
       "      <th>3</th>\n",
       "      <td>4.6</td>\n",
       "      <td>3.1</td>\n",
       "      <td>1.5</td>\n",
       "      <td>0.2</td>\n",
       "      <td>Setosa</td>\n",
       "    </tr>\n",
       "    <tr>\n",
       "      <th>4</th>\n",
       "      <td>5.0</td>\n",
       "      <td>3.6</td>\n",
       "      <td>1.4</td>\n",
       "      <td>0.2</td>\n",
       "      <td>Setosa</td>\n",
       "    </tr>\n",
       "  </tbody>\n",
       "</table>\n",
       "</div>"
      ],
      "text/plain": [
       "   sepal.length  sepal.width  petal.length  petal.width variety\n",
       "0           5.1          3.5           1.4          0.2  Setosa\n",
       "1           4.9          3.0           1.4          0.2  Setosa\n",
       "2           4.7          3.2           1.3          0.2  Setosa\n",
       "3           4.6          3.1           1.5          0.2  Setosa\n",
       "4           5.0          3.6           1.4          0.2  Setosa"
      ]
     },
     "execution_count": 13,
     "metadata": {},
     "output_type": "execute_result"
    }
   ],
   "source": [
    "df = pd.read_csv(\"D:/iris.csv\")\n",
    "df.head()"
   ]
  },
  {
   "cell_type": "code",
   "execution_count": 14,
   "id": "3103b714",
   "metadata": {},
   "outputs": [],
   "source": [
    "x1 = df[\"petal.length\"]"
   ]
  },
  {
   "cell_type": "code",
   "execution_count": 16,
   "id": "09bd6347",
   "metadata": {},
   "outputs": [],
   "source": [
    "x2 = df[\"petal.width\"]"
   ]
  },
  {
   "cell_type": "code",
   "execution_count": 17,
   "id": "12dfda66",
   "metadata": {},
   "outputs": [],
   "source": [
    "data = list(zip(x1,x2))"
   ]
  },
  {
   "cell_type": "code",
   "execution_count": 18,
   "id": "0b5359af",
   "metadata": {},
   "outputs": [
    {
     "data": {
      "text/plain": [
       "[(1.4, 0.2),\n",
       " (1.4, 0.2),\n",
       " (1.3, 0.2),\n",
       " (1.5, 0.2),\n",
       " (1.4, 0.2),\n",
       " (1.7, 0.4),\n",
       " (1.4, 0.3),\n",
       " (1.5, 0.2),\n",
       " (1.4, 0.2),\n",
       " (1.5, 0.1),\n",
       " (1.5, 0.2),\n",
       " (1.6, 0.2),\n",
       " (1.4, 0.1),\n",
       " (1.1, 0.1),\n",
       " (1.2, 0.2),\n",
       " (1.5, 0.4),\n",
       " (1.3, 0.4),\n",
       " (1.4, 0.3),\n",
       " (1.7, 0.3),\n",
       " (1.5, 0.3),\n",
       " (1.7, 0.2),\n",
       " (1.5, 0.4),\n",
       " (1.0, 0.2),\n",
       " (1.7, 0.5),\n",
       " (1.9, 0.2),\n",
       " (1.6, 0.2),\n",
       " (1.6, 0.4),\n",
       " (1.5, 0.2),\n",
       " (1.4, 0.2),\n",
       " (1.6, 0.2),\n",
       " (1.6, 0.2),\n",
       " (1.5, 0.4),\n",
       " (1.5, 0.1),\n",
       " (1.4, 0.2),\n",
       " (1.5, 0.2),\n",
       " (1.2, 0.2),\n",
       " (1.3, 0.2),\n",
       " (1.4, 0.1),\n",
       " (1.3, 0.2),\n",
       " (1.5, 0.2),\n",
       " (1.3, 0.3),\n",
       " (1.3, 0.3),\n",
       " (1.3, 0.2),\n",
       " (1.6, 0.6),\n",
       " (1.9, 0.4),\n",
       " (1.4, 0.3),\n",
       " (1.6, 0.2),\n",
       " (1.4, 0.2),\n",
       " (1.5, 0.2),\n",
       " (1.4, 0.2),\n",
       " (4.7, 1.4),\n",
       " (4.5, 1.5),\n",
       " (4.9, 1.5),\n",
       " (4.0, 1.3),\n",
       " (4.6, 1.5),\n",
       " (4.5, 1.3),\n",
       " (4.7, 1.6),\n",
       " (3.3, 1.0),\n",
       " (4.6, 1.3),\n",
       " (3.9, 1.4),\n",
       " (3.5, 1.0),\n",
       " (4.2, 1.5),\n",
       " (4.0, 1.0),\n",
       " (4.7, 1.4),\n",
       " (3.6, 1.3),\n",
       " (4.4, 1.4),\n",
       " (4.5, 1.5),\n",
       " (4.1, 1.0),\n",
       " (4.5, 1.5),\n",
       " (3.9, 1.1),\n",
       " (4.8, 1.8),\n",
       " (4.0, 1.3),\n",
       " (4.9, 1.5),\n",
       " (4.7, 1.2),\n",
       " (4.3, 1.3),\n",
       " (4.4, 1.4),\n",
       " (4.8, 1.4),\n",
       " (5.0, 1.7),\n",
       " (4.5, 1.5),\n",
       " (3.5, 1.0),\n",
       " (3.8, 1.1),\n",
       " (3.7, 1.0),\n",
       " (3.9, 1.2),\n",
       " (5.1, 1.6),\n",
       " (4.5, 1.5),\n",
       " (4.5, 1.6),\n",
       " (4.7, 1.5),\n",
       " (4.4, 1.3),\n",
       " (4.1, 1.3),\n",
       " (4.0, 1.3),\n",
       " (4.4, 1.2),\n",
       " (4.6, 1.4),\n",
       " (4.0, 1.2),\n",
       " (3.3, 1.0),\n",
       " (4.2, 1.3),\n",
       " (4.2, 1.2),\n",
       " (4.2, 1.3),\n",
       " (4.3, 1.3),\n",
       " (3.0, 1.1),\n",
       " (4.1, 1.3),\n",
       " (6.0, 2.5),\n",
       " (5.1, 1.9),\n",
       " (5.9, 2.1),\n",
       " (5.6, 1.8),\n",
       " (5.8, 2.2),\n",
       " (6.6, 2.1),\n",
       " (4.5, 1.7),\n",
       " (6.3, 1.8),\n",
       " (5.8, 1.8),\n",
       " (6.1, 2.5),\n",
       " (5.1, 2.0),\n",
       " (5.3, 1.9),\n",
       " (5.5, 2.1),\n",
       " (5.0, 2.0),\n",
       " (5.1, 2.4),\n",
       " (5.3, 2.3),\n",
       " (5.5, 1.8),\n",
       " (6.7, 2.2),\n",
       " (6.9, 2.3),\n",
       " (5.0, 1.5),\n",
       " (5.7, 2.3),\n",
       " (4.9, 2.0),\n",
       " (6.7, 2.0),\n",
       " (4.9, 1.8),\n",
       " (5.7, 2.1),\n",
       " (6.0, 1.8),\n",
       " (4.8, 1.8),\n",
       " (4.9, 1.8),\n",
       " (5.6, 2.1),\n",
       " (5.8, 1.6),\n",
       " (6.1, 1.9),\n",
       " (6.4, 2.0),\n",
       " (5.6, 2.2),\n",
       " (5.1, 1.5),\n",
       " (5.6, 1.4),\n",
       " (6.1, 2.3),\n",
       " (5.6, 2.4),\n",
       " (5.5, 1.8),\n",
       " (4.8, 1.8),\n",
       " (5.4, 2.1),\n",
       " (5.6, 2.4),\n",
       " (5.1, 2.3),\n",
       " (5.1, 1.9),\n",
       " (5.9, 2.3),\n",
       " (5.7, 2.5),\n",
       " (5.2, 2.3),\n",
       " (5.0, 1.9),\n",
       " (5.2, 2.0),\n",
       " (5.4, 2.3),\n",
       " (5.1, 1.8)]"
      ]
     },
     "execution_count": 18,
     "metadata": {},
     "output_type": "execute_result"
    }
   ],
   "source": [
    "data"
   ]
  },
  {
   "cell_type": "code",
   "execution_count": 23,
   "id": "6a6055d1",
   "metadata": {},
   "outputs": [
    {
     "data": {
      "image/png": "[encoded data removed]",
      "text/plain": [
       "<Figure size 640x480 with 1 Axes>"
      ]
     },
     "metadata": {},
     "output_type": "display_data"
    }
   ],
   "source": [
    "model = KMeans(n_clusters = 4)\n",
    "model.fit(data)\n",
    "plt.scatter(x1,x2,c = model.labels_)\n",
    "plt.show()"
   ]
  },
  {
   "cell_type": "code",
   "execution_count": null,
   "id": "03518716",
   "metadata": {},
   "outputs": [],
   "source": []
  }
 ],
 "metadata": {
  "kernelspec": {
   "display_name": "Python 3 (ipykernel)",
   "language": "python",
   "name": "python3"
  },
  "language_info": {
   "codemirror_mode": {
    "name": "ipython",
    "version": 3
   },
   "file_extension": ".py",
   "mimetype": "text/x-python",
   "name": "python",
   "nbconvert_exporter": "python",
   "pygments_lexer": "ipython3",
   "version": "3.10.1"
  }
 },
 "nbformat": 4,
 "nbformat_minor": 5
}
